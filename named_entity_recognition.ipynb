{
 "nbformat": 4,
 "nbformat_minor": 2,
 "metadata": {
  "language_info": {
   "name": "python",
   "codemirror_mode": {
    "name": "ipython",
    "version": 3
   },
   "version": "3.8.2-final"
  },
  "orig_nbformat": 2,
  "file_extension": ".py",
  "mimetype": "text/x-python",
  "name": "python",
  "npconvert_exporter": "python",
  "pygments_lexer": "ipython3",
  "version": 3,
  "kernelspec": {
   "name": "python36864bitlinkedinvenv190f1d30daa14d8e83081541661e55d0",
   "display_name": "Python 3.6.8 64-bit ('.linkedin': venv)"
  }
 },
 "cells": [
  {
   "cell_type": "code",
   "execution_count": 8,
   "metadata": {},
   "outputs": [],
   "source": [
    "import spacy\n",
    "import pandas as pd\n",
    "from spacy import displacy\n",
    "import re"
   ]
  },
  {
   "cell_type": "code",
   "execution_count": 9,
   "metadata": {},
   "outputs": [],
   "source": [
    "nlp = spacy.load(\"en_core_web_sm\")"
   ]
  },
  {
   "cell_type": "code",
   "execution_count": 56,
   "metadata": {},
   "outputs": [
    {
     "output_type": "execute_result",
     "data": {
      "text/plain": "           id                                              title  \\\n0  1806342384                          Machine Learning Engineer   \n1  1825361202                         Sales Manager, Advertising   \n2  1824823679   IT Support Analyst / Helpdesk / 1st Line Support   \n3  1825453231  Senior Electronics Design Engineers – Medical ...   \n4  1825427920              Data Scientist, Performance Marketing   \n\n                     company                         location    posted  \\\n0        Paritas Recruitment  London, England, United Kingdom  0.875000   \n1                     GumGum  London, England, United Kingdom  0.333333   \n2        AboutYouRecruitment  London, England, United Kingdom  0.875000   \n3  Newton Colmore Consulting  London, England, United Kingdom  0.208333   \n4                       King  London, England, United Kingdom  0.208333   \n\n   applicants                                               text  \\\n0         173  Paritas Recruitment are working with a stealth...   \n1           0  Job DescriptionSummary Our advertising busines...   \n2           0  IT Support Analyst / Helpdesk / 1st Line Suppo...   \n3           0  An established Medical Devices company, based ...   \n4           0  Job DescriptionSalary: Market RateApplication ...   \n\n                level         type  \\\n0   Mid-Senior level    Full-time    \n1        Entry level    Full-time    \n2        Entry level    Full-time    \n3          Associate    Full-time    \n4        Entry level    Full-time    \n\n                                    functions  \\\n0   Information Technology Engineering Other    \n1                 Sales Business Development    \n2                     Information Technology    \n3         Engineering Information Technology    \n4         Engineering Information Technology    \n\n                                          industries  \n0   Information Technology and Services Computer ...  \n1   Marketing and Advertising Online Media Comput...  \n2   Marketing and Advertising Computer Software S...  \n3   Medical Devices Research Staffing and Recruiting  \n4   Staffing and Recruiting Human Resources Compu...  ",
      "text/html": "<div>\n<style scoped>\n    .dataframe tbody tr th:only-of-type {\n        vertical-align: middle;\n    }\n\n    .dataframe tbody tr th {\n        vertical-align: top;\n    }\n\n    .dataframe thead th {\n        text-align: right;\n    }\n</style>\n<table border=\"1\" class=\"dataframe\">\n  <thead>\n    <tr style=\"text-align: right;\">\n      <th></th>\n      <th>id</th>\n      <th>title</th>\n      <th>company</th>\n      <th>location</th>\n      <th>posted</th>\n      <th>applicants</th>\n      <th>text</th>\n      <th>level</th>\n      <th>type</th>\n      <th>functions</th>\n      <th>industries</th>\n    </tr>\n  </thead>\n  <tbody>\n    <tr>\n      <th>0</th>\n      <td>1806342384</td>\n      <td>Machine Learning Engineer</td>\n      <td>Paritas Recruitment</td>\n      <td>London, England, United Kingdom</td>\n      <td>0.875000</td>\n      <td>173</td>\n      <td>Paritas Recruitment are working with a stealth...</td>\n      <td>Mid-Senior level</td>\n      <td>Full-time</td>\n      <td>Information Technology Engineering Other</td>\n      <td>Information Technology and Services Computer ...</td>\n    </tr>\n    <tr>\n      <th>1</th>\n      <td>1825361202</td>\n      <td>Sales Manager, Advertising</td>\n      <td>GumGum</td>\n      <td>London, England, United Kingdom</td>\n      <td>0.333333</td>\n      <td>0</td>\n      <td>Job DescriptionSummary Our advertising busines...</td>\n      <td>Entry level</td>\n      <td>Full-time</td>\n      <td>Sales Business Development</td>\n      <td>Marketing and Advertising Online Media Comput...</td>\n    </tr>\n    <tr>\n      <th>2</th>\n      <td>1824823679</td>\n      <td>IT Support Analyst / Helpdesk / 1st Line Support</td>\n      <td>AboutYouRecruitment</td>\n      <td>London, England, United Kingdom</td>\n      <td>0.875000</td>\n      <td>0</td>\n      <td>IT Support Analyst / Helpdesk / 1st Line Suppo...</td>\n      <td>Entry level</td>\n      <td>Full-time</td>\n      <td>Information Technology</td>\n      <td>Marketing and Advertising Computer Software S...</td>\n    </tr>\n    <tr>\n      <th>3</th>\n      <td>1825453231</td>\n      <td>Senior Electronics Design Engineers – Medical ...</td>\n      <td>Newton Colmore Consulting</td>\n      <td>London, England, United Kingdom</td>\n      <td>0.208333</td>\n      <td>0</td>\n      <td>An established Medical Devices company, based ...</td>\n      <td>Associate</td>\n      <td>Full-time</td>\n      <td>Engineering Information Technology</td>\n      <td>Medical Devices Research Staffing and Recruiting</td>\n    </tr>\n    <tr>\n      <th>4</th>\n      <td>1825427920</td>\n      <td>Data Scientist, Performance Marketing</td>\n      <td>King</td>\n      <td>London, England, United Kingdom</td>\n      <td>0.208333</td>\n      <td>0</td>\n      <td>Job DescriptionSalary: Market RateApplication ...</td>\n      <td>Entry level</td>\n      <td>Full-time</td>\n      <td>Engineering Information Technology</td>\n      <td>Staffing and Recruiting Human Resources Compu...</td>\n    </tr>\n  </tbody>\n</table>\n</div>"
     },
     "metadata": {},
     "execution_count": 56
    }
   ],
   "source": [
    "data_frame = (pd.read_csv(\"C:\\\\Users\\\\Sectorea\\\\Code\\\\database_linkedin\\\\etl_consolidated\\\\data_science_London_Past_24_hours_2020-04-14.csv\"))\n",
    "data_frame.head()"
   ]
  },
  {
   "cell_type": "code",
   "execution_count": 55,
   "metadata": {},
   "outputs": [
    {
     "output_type": "execute_result",
     "data": {
      "text/plain": "'We’re Sky, Europe’s biggest entertainment brand. Think top-quality shows. Breaking news. Innovative tech. Must-have products. Careers here mean the freedom and support you need to make an impact – pushing boundaries, creating solutions, hitting targets. And as part of our close-knit team, you’ll enjoy plenty of benefits. Plus, experiences you’ll only find at Sky.“Global OTT Capabilities is a brand-new team with an ambitious remit. We’re looking for dynamic, creative people who can build relationships, challenge the way we do things and help us deliver solutions that will scale across all our OTT products. We’re looking forward to welcoming someone new to our friendly team” – Head of DepartmentThe perksSky Q, a generous pension and private health care. Access to over 12,000 LinkedIn Learning courses to support your development. And if that’s not enough, our award-winning Osterley campus boasts six subsidised restaurants, a cinema, gym, and much more.To find out more about working with us, search #LifeatSky on LinkedIn, Twitter or Instagram.You WillBe responsible for defining and delivering the metadata framework and features that support Sky OTT propositions across all territories in which Sky operates.You will continually strive to maximise our metadata platform and partners to ensure Sky’s customers have the best possible experience whenever they turn on their TV or device.– Be the voice of our customers. Never settling for the status quo and ensuring our customers’ needs are at the heart of each experience.– Take long term ownership of a specific set of metadata features and/or functionality, continually assessing product strengths and defining areas to improve.– Lead product reviews for a given metadata product set / feature, ensuring key stakeholders are involved where appropriate.– Produce product and customer experience insights to frame and challenge hypotheses and ideas.– Collaborate with Comcast, Sky Group companies, external partners and other key business areas to develop, launch and support features that will improve Sky’s content discovery experiences.– Understand competing products, and the views and wants of our customers, in crowded and fast-moving markets.– Contribute to the overall improvements in product management capabilities within the team by sharing insights and working collaboratively across the content discovery product team.You’ll Have– An entrepreneurial spirit! You will need to be a self-motivated, dedicated, team player who is ambitious and able to work both independently and within a team. A passion for TV: watching it; reading about it; talking about it. You understand yourself as a consumer of media and have a keen interest (and opinion) on what creates a great content discovery experience.– A passion for the media industry, with an eye on existing behaviour and emerging trends.– Experience working with content and metadata in television or an adjacent industry. Great communication skills and be able to convey your ideas effectively, tailoring the communication, as appropriate, to the intended audience.– A demonstrable ability to collaborate and influence stakeholders – gaining alignment and sign-off as and when appropriate and showing thought leadership where relevant.– Analytical and quantitative skills with the ability to use data and metrics to back up assumptions and recommendations.– An understanding, of optimising products through testing and analysis, including A/B testing, qualitative and quantitative customer research, data mining and web analytics.– An understanding of resourcing, with experience making priority and trade-off recommendations where necessary.So, what are you waiting for? Apply now for a chance to forge your own career path and be brilliant as part of a bright, talented team.Just so you know: if your application is successful, we’ll ask you to complete a criminal record check. And depending on the role you have applied for and the nature of any convictions, we might withdraw the offer.We’re happy to discuss flexible working.It’s our people that make Sky Europe’s leading entertainment company. That’s why we work hard to be an inclusive employer, so everyone at Sky can be their best.A job you love to talk about'"
     },
     "metadata": {},
     "execution_count": 55
    }
   ],
   "source": [
    "text = data_frame.loc[7, 'text']\n",
    "text"
   ]
  },
  {
   "cell_type": "code",
   "execution_count": 51,
   "metadata": {},
   "outputs": [],
   "source": [
    "def get_clean_tokens(text):\n",
    "\n",
    "    # clean_text = re.sub('[!#?¿:\"+-]', ' ', text)\n",
    "    clean_text = re.sub(r\"([A-Z])([A-Z])([a-z])\", r\"\\1 \\2\\3\", text)\n",
    "    clean_text = re.sub(r\"([a-z])([A-Z])\", r\"\\1 \\2\", clean_text)\n",
    "\n",
    "    return clean_text"
   ]
  },
  {
   "cell_type": "code",
   "execution_count": 52,
   "metadata": {},
   "outputs": [],
   "source": [
    "clean_text = get_clean_tokens(text)"
   ]
  },
  {
   "cell_type": "code",
   "execution_count": 24,
   "metadata": {},
   "outputs": [
    {
     "output_type": "stream",
     "name": "stdout",
     "text": "[('110,000', 'MONEY'), ('Data Science', 'ORG'), ('Product Owners', 'ORG'), ('Software Engineers', 'ORG'), ('Data Engineers', 'ORG'), ('Ph.D.', 'WORK_OF_ART'), ('Python', 'GPE'), ('Hadoop', 'GPE'), ('Tableau', 'ORG'), ('SQL', 'ORG'), ('Hive Excellent', 'ORG'), ('KEYWORDSPython', 'ORG'), ('SQL', 'ORG'), ('Hadoop', 'GPE'), ('AWS', 'ORG'), ('GCP', 'ORG'), ('Spark', 'GPE'), ('Data Scientist', 'PERSON'), ('Data Science', 'PERSON'), ('Machine Learning', 'GPE'), ('Statistics', 'GPE')]\n"
    }
   ],
   "source": [
    "text = data_frame.loc[row, 'text']\n",
    "doc = nlp(text)\n",
    "print([(X.text, X.label_) for X in doc.ents])"
   ]
  },
  {
   "cell_type": "code",
   "execution_count": 25,
   "metadata": {
    "tags": [
     "outputPrepend",
     "outputPrepend",
     "outputPrepend",
     "outputPrepend",
     "outputPrepend"
    ]
   },
   "outputs": [],
   "source": [
    "def get_values(row):\n",
    "    text = data_frame.loc[row, 'text']\n",
    "    doc = nlp(text)\n",
    "    print([(X.text, X.label_) for X in doc.ents])\n",
    ""
   ]
  },
  {
   "cell_type": "code",
   "execution_count": 53,
   "metadata": {},
   "outputs": [
    {
     "output_type": "display_data",
     "data": {
      "text/plain": "<IPython.core.display.HTML object>",
      "text/html": "<span class=\"tex2jax_ignore\"><div class=\"entities\" style=\"line-height: 2.5; direction: ltr\">Overview \n<mark class=\"entity\" style=\"background: #aa9cfc; padding: 0.45em 0.6em; margin: 0 0.25em; line-height: 1; border-radius: 0.35em;\">\n    Log Me\n    <span style=\"font-size: 0.8em; font-weight: bold; line-height: 1; border-radius: 0.35em; text-transform: uppercase; vertical-align: middle; margin-left: 0.5rem\">PERSON</span>\n</mark>\n In is looking for an experienced \n<mark class=\"entity\" style=\"background: #7aecec; padding: 0.45em 0.6em; margin: 0 0.25em; line-height: 1; border-radius: 0.35em;\">\n    Professional Services\n    <span style=\"font-size: 0.8em; font-weight: bold; line-height: 1; border-radius: 0.35em; text-transform: uppercase; vertical-align: middle; margin-left: 0.5rem\">ORG</span>\n</mark>\n Manager to join our dynamic team of Customer Engagement delivery specialists. \n<mark class=\"entity\" style=\"background: #7aecec; padding: 0.45em 0.6em; margin: 0 0.25em; line-height: 1; border-radius: 0.35em;\">\n    The Professional Services Manager\n    <span style=\"font-size: 0.8em; font-weight: bold; line-height: 1; border-radius: 0.35em; text-transform: uppercase; vertical-align: middle; margin-left: 0.5rem\">ORG</span>\n</mark>\n will plan, manage, oversee and execute the growth and expansion of \n<mark class=\"entity\" style=\"background: #aa9cfc; padding: 0.45em 0.6em; margin: 0 0.25em; line-height: 1; border-radius: 0.35em;\">\n    Log Me\n    <span style=\"font-size: 0.8em; font-weight: bold; line-height: 1; border-radius: 0.35em; text-transform: uppercase; vertical-align: middle; margin-left: 0.5rem\">PERSON</span>\n</mark>\n In’s International professional services team; working in tight partnership with International counterparts. \n<mark class=\"entity\" style=\"background: #7aecec; padding: 0.45em 0.6em; margin: 0 0.25em; line-height: 1; border-radius: 0.35em;\">\n    The Professional Services Manager\n    <span style=\"font-size: 0.8em; font-weight: bold; line-height: 1; border-radius: 0.35em; text-transform: uppercase; vertical-align: middle; margin-left: 0.5rem\">ORG</span>\n</mark>\n will need to have demonstrated proficiency in project management, task assignment, people and process management, and technical service delivery.  Responsibilities Lead, manage, and support the timely execution and delivery of professional service projects in the areas of \n<mark class=\"entity\" style=\"background: #7aecec; padding: 0.45em 0.6em; margin: 0 0.25em; line-height: 1; border-radius: 0.35em;\">\n    Customer Engagement\n    <span style=\"font-size: 0.8em; font-weight: bold; line-height: 1; border-radius: 0.35em; text-transform: uppercase; vertical-align: middle; margin-left: 0.5rem\">ORG</span>\n</mark>\n and artificial intelligence (\n<mark class=\"entity\" style=\"background: #7aecec; padding: 0.45em 0.6em; margin: 0 0.25em; line-height: 1; border-radius: 0.35em;\">\n    A.I.\n    <span style=\"font-size: 0.8em; font-weight: bold; line-height: 1; border-radius: 0.35em; text-transform: uppercase; vertical-align: middle; margin-left: 0.5rem\">ORG</span>\n</mark>\n) chat bots \n<mark class=\"entity\" style=\"background: #7aecec; padding: 0.45em 0.6em; margin: 0 0.25em; line-height: 1; border-radius: 0.35em;\">\n    Manage\n    <span style=\"font-size: 0.8em; font-weight: bold; line-height: 1; border-radius: 0.35em; text-transform: uppercase; vertical-align: middle; margin-left: 0.5rem\">ORG</span>\n</mark>\n team of billable consultants and be responsible for planning, staffing and executing quality on-time projects that deliver a high level of customer satisfaction Manage the process of scoping, planning, costing, and pricing new projects to build out accurate \n<mark class=\"entity\" style=\"background: #7aecec; padding: 0.45em 0.6em; margin: 0 0.25em; line-height: 1; border-radius: 0.35em;\">\n    SOW\n    <span style=\"font-size: 0.8em; font-weight: bold; line-height: 1; border-radius: 0.35em; text-transform: uppercase; vertical-align: middle; margin-left: 0.5rem\">ORG</span>\n</mark>\n’s for new projects/package; define goals and objectives, client requirements, resource needs, budget, risks, and deliverables Work with sales and success teams to create and manage relationships with client stakeholders, seeking to build strong champions within client and pipeline of future work Partner and work directly with the services, \n<mark class=\"entity\" style=\"background: #7aecec; padding: 0.45em 0.6em; margin: 0 0.25em; line-height: 1; border-radius: 0.35em;\">\n    Product, Customer Success\n    <span style=\"font-size: 0.8em; font-weight: bold; line-height: 1; border-radius: 0.35em; text-transform: uppercase; vertical-align: middle; margin-left: 0.5rem\">ORG</span>\n</mark>\n and Sales teams to create and execute professional services engagements that deliver high quality results \n<mark class=\"entity\" style=\"background: #7aecec; padding: 0.45em 0.6em; margin: 0 0.25em; line-height: 1; border-radius: 0.35em;\">\n    Recruit\n    <span style=\"font-size: 0.8em; font-weight: bold; line-height: 1; border-radius: 0.35em; text-transform: uppercase; vertical-align: middle; margin-left: 0.5rem\">ORG</span>\n</mark>\n, hire, develop, train and coach a growing team of application developers, and project managers. This includes local and near-shore personnel. Manage all staff issues including assignment of duties, performance evaluations and recommendations for personnel actions Responsible for direction and coordination of staff, establishing and monitoring standards of performance, and motivating the team towards success and high levels of morale. Communicate project status to key stakeholders through status meetings, reports and scorecards \n<mark class=\"entity\" style=\"background: #7aecec; padding: 0.45em 0.6em; margin: 0 0.25em; line-height: 1; border-radius: 0.35em;\">\n    Ensure\n    <span style=\"font-size: 0.8em; font-weight: bold; line-height: 1; border-radius: 0.35em; text-transform: uppercase; vertical-align: middle; margin-left: 0.5rem\">ORG</span>\n</mark>\n proper internal processes and systems are defined, adhered to and the accurate reporting on all projects Closely monitor and manage consultant usage to build reports on \n<mark class=\"entity\" style=\"background: #bfe1d9; padding: 0.45em 0.6em; margin: 0 0.25em; line-height: 1; border-radius: 0.35em;\">\n    hours\n    <span style=\"font-size: 0.8em; font-weight: bold; line-height: 1; border-radius: 0.35em; text-transform: uppercase; vertical-align: middle; margin-left: 0.5rem\">TIME</span>\n</mark>\n utilized, to determine \n<mark class=\"entity\" style=\"background: #bfe1d9; padding: 0.45em 0.6em; margin: 0 0.25em; line-height: 1; border-radius: 0.35em;\">\n    monthly/quarterly/annual\n    <span style=\"font-size: 0.8em; font-weight: bold; line-height: 1; border-radius: 0.35em; text-transform: uppercase; vertical-align: middle; margin-left: 0.5rem\">DATE</span>\n</mark>\n capacity  \n<mark class=\"entity\" style=\"background: #7aecec; padding: 0.45em 0.6em; margin: 0 0.25em; line-height: 1; border-radius: 0.35em;\">\n    Skills Significant\n    <span style=\"font-size: 0.8em; font-weight: bold; line-height: 1; border-radius: 0.35em; text-transform: uppercase; vertical-align: middle; margin-left: 0.5rem\">ORG</span>\n</mark>\n technical project/program management experience, particularly in a technical development environment Experience managing a high performing team in a remote work environment across multiple time zones. Understanding of application development process in agile project environments involving \n<mark class=\"entity\" style=\"background: #aa9cfc; padding: 0.45em 0.6em; margin: 0 0.25em; line-height: 1; border-radius: 0.35em;\">\n    Customer Engagement\n    <span style=\"font-size: 0.8em; font-weight: bold; line-height: 1; border-radius: 0.35em; text-transform: uppercase; vertical-align: middle; margin-left: 0.5rem\">PERSON</span>\n</mark>\n and IT practices Knowledge of technologies such as \n<mark class=\"entity\" style=\"background: #aa9cfc; padding: 0.45em 0.6em; margin: 0 0.25em; line-height: 1; border-radius: 0.35em;\">\n    Javascript\n    <span style=\"font-size: 0.8em; font-weight: bold; line-height: 1; border-radius: 0.35em; text-transform: uppercase; vertical-align: middle; margin-left: 0.5rem\">PERSON</span>\n</mark>\n (Front end and \n<mark class=\"entity\" style=\"background: #7aecec; padding: 0.45em 0.6em; margin: 0 0.25em; line-height: 1; border-radius: 0.35em;\">\n    Node JS Backend\n    <span style=\"font-size: 0.8em; font-weight: bold; line-height: 1; border-radius: 0.35em; text-transform: uppercase; vertical-align: middle; margin-left: 0.5rem\">ORG</span>\n</mark>\n), \n<mark class=\"entity\" style=\"background: #7aecec; padding: 0.45em 0.6em; margin: 0 0.25em; line-height: 1; border-radius: 0.35em;\">\n    NLP/Machine Learning\n    <span style=\"font-size: 0.8em; font-weight: bold; line-height: 1; border-radius: 0.35em; text-transform: uppercase; vertical-align: middle; margin-left: 0.5rem\">ORG</span>\n</mark>\n, knowledge base, \n<mark class=\"entity\" style=\"background: #7aecec; padding: 0.45em 0.6em; margin: 0 0.25em; line-height: 1; border-radius: 0.35em;\">\n    CRM\n    <span style=\"font-size: 0.8em; font-weight: bold; line-height: 1; border-radius: 0.35em; text-transform: uppercase; vertical-align: middle; margin-left: 0.5rem\">ORG</span>\n</mark>\n/Ticketing systems, and version control systems are a plus \n<mark class=\"entity\" style=\"background: #7aecec; padding: 0.45em 0.6em; margin: 0 0.25em; line-height: 1; border-radius: 0.35em;\">\n    Previous\n    <span style=\"font-size: 0.8em; font-weight: bold; line-height: 1; border-radius: 0.35em; text-transform: uppercase; vertical-align: middle; margin-left: 0.5rem\">ORG</span>\n</mark>\n application development experience a plus Customer relationship management experience a plus Experience working with sales teams, particularly in services, including scoping, negotiating and writing SO Ws Understanding of IT security and compliance auditing in various business sectors. \n<mark class=\"entity\" style=\"background: #c887fb; padding: 0.45em 0.6em; margin: 0 0.25em; line-height: 1; border-radius: 0.35em;\">\n    European\n    <span style=\"font-size: 0.8em; font-weight: bold; line-height: 1; border-radius: 0.35em; text-transform: uppercase; vertical-align: middle; margin-left: 0.5rem\">NORP</span>\n</mark>\n GDPR knowledge is a plus  \n<mark class=\"entity\" style=\"background: #7aecec; padding: 0.45em 0.6em; margin: 0 0.25em; line-height: 1; border-radius: 0.35em;\">\n    Qualifications BS\n    <span style=\"font-size: 0.8em; font-weight: bold; line-height: 1; border-radius: 0.35em; text-transform: uppercase; vertical-align: middle; margin-left: 0.5rem\">ORG</span>\n</mark>\n, \n<mark class=\"entity\" style=\"background: #f0d0ff; padding: 0.45em 0.6em; margin: 0 0.25em; line-height: 1; border-radius: 0.35em;\">\n    MBA\n    <span style=\"font-size: 0.8em; font-weight: bold; line-height: 1; border-radius: 0.35em; text-transform: uppercase; vertical-align: middle; margin-left: 0.5rem\">WORK_OF_ART</span>\n</mark>\n, or MS in business, technical or professional discipline or equivalent work experience Proven record of \n<mark class=\"entity\" style=\"background: #bfe1d9; padding: 0.45em 0.6em; margin: 0 0.25em; line-height: 1; border-radius: 0.35em;\">\n    five years\n    <span style=\"font-size: 0.8em; font-weight: bold; line-height: 1; border-radius: 0.35em; text-transform: uppercase; vertical-align: middle; margin-left: 0.5rem\">DATE</span>\n</mark>\n minimum demonstrating the ability to manage and grow a successful delivery team Hands on experience in a number of business disciplines such as consulting services, business operations, project management, information technology, software development, with a proven ability and record of success Strong communications and presentation skills. Ability to positively present yourself, and \n<mark class=\"entity\" style=\"background: #aa9cfc; padding: 0.45em 0.6em; margin: 0 0.25em; line-height: 1; border-radius: 0.35em;\">\n    Log Me\n    <span style=\"font-size: 0.8em; font-weight: bold; line-height: 1; border-radius: 0.35em; text-transform: uppercase; vertical-align: middle; margin-left: 0.5rem\">PERSON</span>\n</mark>\n In Minimum of \n<mark class=\"entity\" style=\"background: #bfe1d9; padding: 0.45em 0.6em; margin: 0 0.25em; line-height: 1; border-radius: 0.35em;\">\n    five years\n    <span style=\"font-size: 0.8em; font-weight: bold; line-height: 1; border-radius: 0.35em; text-transform: uppercase; vertical-align: middle; margin-left: 0.5rem\">DATE</span>\n</mark>\n as an internal or external consultant with broad exposure and experience in a variety of circumstances, and a proven record of success Experience in managing development engineers and project managers in a multi-office environment</div></span>"
     },
     "metadata": {}
    }
   ],
   "source": [
    "displacy.render(nlp(clean_text), jupyter=True, style='ent')"
   ]
  },
  {
   "cell_type": "code",
   "execution_count": null,
   "metadata": {},
   "outputs": [],
   "source": [
    "displacy.render(nlp(text), style='dep', jupyter = True, options = {'distance': 120})"
   ]
  },
  {
   "cell_type": "code",
   "execution_count": null,
   "metadata": {},
   "outputs": [],
   "source": [
    "[(x.orth_,x.pos_, x.lemma_) for x in [y \n",
    "                                      for y\n",
    "                                      in nlp(text) \n",
    "                                      if not y.is_stop and y.pos_ != 'PUNCT']]"
   ]
  },
  {
   "cell_type": "code",
   "execution_count": null,
   "metadata": {},
   "outputs": [],
   "source": [
    "documents = list(data_frame.text)"
   ]
  },
  {
   "cell_type": "code",
   "execution_count": null,
   "metadata": {},
   "outputs": [],
   "source": [
    "print(len(documents))"
   ]
  },
  {
   "cell_type": "code",
   "execution_count": 59,
   "metadata": {},
   "outputs": [],
   "source": [
    "from sklearn.feature_extraction.text import TfidfVectorizer\n",
    "from sklearn.cluster import KMeans\n",
    "from sklearn.metrics import adjusted_rand_score"
   ]
  },
  {
   "cell_type": "code",
   "execution_count": 63,
   "metadata": {},
   "outputs": [],
   "source": [
    "data_frame.dropna(inplace=True)\n",
    "documents = list(data_frame.text)"
   ]
  },
  {
   "cell_type": "code",
   "execution_count": 64,
   "metadata": {},
   "outputs": [],
   "source": [
    "vectorizer = TfidfVectorizer(stop_words='english')\n",
    "X = vectorizer.fit_transform(documents)"
   ]
  },
  {
   "cell_type": "code",
   "execution_count": 62,
   "metadata": {},
   "outputs": [
    {
     "output_type": "execute_result",
     "data": {
      "text/plain": "(683, 14122)"
     },
     "metadata": {},
     "execution_count": 62
    }
   ],
   "source": [
    "X.shape"
   ]
  },
  {
   "cell_type": "code",
   "execution_count": null,
   "metadata": {},
   "outputs": [],
   "source": [
    "X"
   ]
  },
  {
   "cell_type": "code",
   "execution_count": null,
   "metadata": {},
   "outputs": [],
   "source": [
    "from sklearn.cluster.bicluster import SpectralCoclustering\n",
    "from matplotlib import pyplot as plt\n",
    "import numpy as np\n",
    "from collections import Counter\n",
    ""
   ]
  },
  {
   "cell_type": "code",
   "execution_count": null,
   "metadata": {},
   "outputs": [],
   "source": [
    "cocluster = SpectralCoclustering(n_clusters=10,\n",
    "                                 random_state=0)\n",
    "\n",
    "print(\"number of movies:\", X.shape[0])\n",
    "print(\"number of users :\", X.shape[1])"
   ]
  },
  {
   "cell_type": "code",
   "execution_count": null,
   "metadata": {},
   "outputs": [],
   "source": [
    "print(\"Performing the coclustering...\")\n",
    "cocluster.fit(X)\n",
    "y_cocluster = cocluster.row_labels_"
   ]
  },
  {
   "cell_type": "code",
   "execution_count": null,
   "metadata": {},
   "outputs": [],
   "source": [
    "i = list(y_cocluster)\n",
    "Counter(y_cocluster)"
   ]
  },
  {
   "cell_type": "code",
   "execution_count": null,
   "metadata": {},
   "outputs": [],
   "source": [
    "cocluster.n_clusters"
   ]
  },
  {
   "cell_type": "code",
   "execution_count": null,
   "metadata": {},
   "outputs": [],
   "source": [
    "\n",
    "\n",
    "cmap = plt.cm.bwr\n",
    "\n",
    "sorted_rows_inds = np.argsort(cocluster.row_labels_)\n",
    "sorted_cols_inds = np.argsort(cocluster.column_labels_)\n",
    "\n",
    "fit_data = X[sorted_rows_inds]\n",
    "fit_data = fit_data[:, sorted_cols_inds]"
   ]
  },
  {
   "cell_type": "code",
   "execution_count": null,
   "metadata": {},
   "outputs": [],
   "source": [
    "vmax = max([abs(X.min()), abs(X.max())])\n",
    "vmax = 0.001"
   ]
  },
  {
   "cell_type": "code",
   "execution_count": null,
   "metadata": {},
   "outputs": [],
   "source": [
    "X.shape"
   ]
  },
  {
   "cell_type": "code",
   "execution_count": null,
   "metadata": {},
   "outputs": [],
   "source": [
    "def reduce_X(X, row_factor=50, col_factor=50):\n",
    "    nrows, ncols = np.shape(X)\n",
    "#    nrows_red = nrows//row_factor\n",
    "#    ncols_red = ncols//col_factor\n",
    "    nrows_red = int(np.ceil(nrows/row_factor))\n",
    "    ncols_red = int(np.ceil(ncols/col_factor))\n",
    "    reducida = np.zeros((nrows_red, ncols_red))\n",
    "    aux_row = 0\n",
    "    for row in range(nrows_red):\n",
    "        if row % 10 == 0:\n",
    "            print(\"{} / {}\".format(row+1, nrows_red))\n",
    "        aux_col = 0\n",
    "        for col in range(ncols_red):\n",
    "            reducida[row,col] = X[aux_row:(aux_row+row_factor),\n",
    "                                  aux_col:(aux_col+col_factor)].mean()\n",
    "            aux_col += col_factor\n",
    "        aux_row += row_factor\n",
    "    return reducida"
   ]
  },
  {
   "cell_type": "code",
   "execution_count": null,
   "metadata": {},
   "outputs": [],
   "source": [
    "row_factor = 1\n",
    "col_factor = 10\n",
    "reducida_X = reduce_X(X, row_factor=row_factor, col_factor=col_factor)\n",
    "reducida_fit_data = reduce_X(fit_data, row_factor=row_factor, col_factor=col_factor)"
   ]
  },
  {
   "cell_type": "code",
   "execution_count": null,
   "metadata": {},
   "outputs": [],
   "source": [
    "print(\"X shape reduced from\", X.shape, \"to\", reducida_X.shape)"
   ]
  },
  {
   "cell_type": "code",
   "execution_count": null,
   "metadata": {},
   "outputs": [],
   "source": [
    "cmap = plt.cm.cool\n",
    "n_clusters = cocluster.n_clusters\n",
    "\n",
    "plt.figure(figsize=(25,25))\n",
    "#plt.subplot(1,2,1)\n",
    "plt.imshow(reducida_X, cmap=cmap, vmin=0, vmax=vmax, aspect=1)\n",
    "#plt.xticks(range(len(np.array(feature_names)[::col_factor]))[::10],\n",
    "#           np.array(feature_names)[::col_factor][::10],\n",
    "#           fontsize=14, rotation=85)\n",
    "plt.title(\"original dataset\", fontsize=24)\n",
    "plt.xlabel('Users', fontsize=24)\n",
    "plt.ylabel('Movies', fontsize=24)\n",
    "plt.show()\n",
    "\n",
    "plt.figure(figsize=(25,25))\n",
    "#plt.subplot(1,2,2)\n",
    "plt.imshow(reducida_fit_data, cmap=cmap, vmin=0, vmax=vmax, aspect=1)\n",
    "#plt.xticks(range(len(np.array(feature_names)[::col_factor]))[::10],\n",
    "#           np.array(feature_names)[sorted_cols_inds][::col_factor][::10],\n",
    "#           fontsize=14, rotation=85)\n",
    "plt.title(\"Dataset after biclustering, rearranged to show biclusters\", fontsize=24)\n",
    "corner_y = -0.5\n",
    "c = 0\n",
    "for i in range(n_clusters):\n",
    "    corner_x = -0.5\n",
    "    for j in range(n_clusters):\n",
    "#        sh = cocluster.get_shape(i)\n",
    "        sh = [cocluster.get_shape(i)[0]/row_factor,\n",
    "              cocluster.get_shape(j)[1]/col_factor]\n",
    "        if i==j:\n",
    "            plt.plot([corner_x, corner_x+sh[1], corner_x+sh[1], corner_x, corner_x],\n",
    "                     [corner_y, corner_y, corner_y+sh[0], corner_y+sh[0], corner_y], 'g', linewidth=3)\n",
    "        corner_x += sh[1]\n",
    "        c += 1\n",
    "    corner_y += sh[0]\n",
    "plt.xlabel('Users', fontsize=24)\n",
    "plt.ylabel('Movies', fontsize=24)\n",
    "plt.show()"
   ]
  },
  {
   "cell_type": "code",
   "execution_count": null,
   "metadata": {},
   "outputs": [],
   "source": []
  }
 ]
}
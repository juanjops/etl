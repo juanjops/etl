{
 "nbformat": 4,
 "nbformat_minor": 2,
 "metadata": {
  "language_info": {
   "name": "python",
   "codemirror_mode": {
    "name": "ipython",
    "version": 3
   },
   "version": "3.8.2-final"
  },
  "orig_nbformat": 2,
  "file_extension": ".py",
  "mimetype": "text/x-python",
  "name": "python",
  "npconvert_exporter": "python",
  "pygments_lexer": "ipython3",
  "version": 3,
  "kernelspec": {
   "name": "python36864bitlinkedinvenv190f1d30daa14d8e83081541661e55d0",
   "display_name": "Python 3.6.8 64-bit ('.linkedin': venv)"
  }
 },
 "cells": [
  {
   "cell_type": "code",
   "execution_count": 15,
   "metadata": {},
   "outputs": [],
   "source": [
    "import pandas as pd\n",
    "import matplotlib.pyplot as plt\n",
    "from collections import Counter\n",
    "import spacy\n",
    "import re\n",
    "from os import listdir\n",
    "from os.path import isfile, join"
   ]
  },
  {
   "cell_type": "code",
   "execution_count": 156,
   "metadata": {},
   "outputs": [],
   "source": [
    "DATA_BASE_TEXT_ROUTE = \"C:\\\\Users\\\\Sectorea\\\\Code\\\\database_linkedin\\\\text_analyzed\\\\\""
   ]
  },
  {
   "cell_type": "code",
   "execution_count": 159,
   "metadata": {},
   "outputs": [],
   "source": [
    "def get_join_data(route):\n",
    "\n",
    "    files = [file for file in listdir(route) if isfile(join(route, file))]\n",
    "    data_frames = [pd.read_csv(route + file) for file in files]\n",
    "    data_analyzed = pd.concat(data_frames)\n",
    "    data_analyzed = data_analyzed.reset_index(drop=True)\n",
    "    data_analyzed = data_analyzed.drop_duplicates(subset=[\"id\"])\n",
    "\n",
    "    return data_analyzed"
   ]
  },
  {
   "cell_type": "code",
   "execution_count": 99,
   "metadata": {},
   "outputs": [],
   "source": [
    "def get_common_words(data_frame, column, number_of_values):\n",
    "\n",
    "    variable_extension = \" \".join(review for review in data_frame[column] if type(review) is not float)\n",
    "    variable_count = variable_extension.split(\" \")\n",
    "    print(Counter(variable_count).most_common(number_of_values))"
   ]
  },
  {
   "cell_type": "code",
   "execution_count": 100,
   "metadata": {},
   "outputs": [],
   "source": [
    "def get_column_value(data_frame, id, column):\n",
    "\n",
    "    index = int(data_frame[data_frame[\"id\"] == id].index.values)\n",
    "    print(data_frame[column][index])"
   ]
  },
  {
   "cell_type": "code",
   "execution_count": 277,
   "metadata": {},
   "outputs": [
    {
     "output_type": "execute_result",
     "data": {
      "text/plain": "(3894, 15)"
     },
     "metadata": {},
     "execution_count": 277
    }
   ],
   "source": [
    "analyzed_texts = get_join_data(DATA_BASE_TEXT_ROUTE)\n",
    "analyzed_texts = analyzed_texts.dropna(subset=[\"title\", \"company\", \"location\", \"posted\", \"applicants\", \"text\", \"level\", \"type\", \"functions\", \"industries\"])\n",
    "analyzed_texts[\"country\"] = analyzed_texts[\"location\"].apply(lambda x: x.split(\" \")[-1])\n",
    "analyzed_texts.shape"
   ]
  },
  {
   "cell_type": "code",
   "execution_count": 278,
   "metadata": {},
   "outputs": [
    {
     "output_type": "execute_result",
     "data": {
      "text/plain": "           id                                       title company  \\\n0  1781527759  Senior Data Engineer - 12 month fixed term   Optus   \n\n                             location posted  applicants  \\\n0  Sydney, New South Wales, Australia   60.0           0   \n\n                                                text               level  \\\n0  Senior Data EngineerThe Data Center of Excelle...   Mid-Senior level    \n\n          type                 functions  \\\n0   Full-time    Information Technology    \n\n                                          industries  \\\n0   Telecommunications Internet Information Techn...   \n\n                                           key_words  \\\n0  scala spark hive sql kafka sqoop flume nifi hd...   \n\n                                    misspelled_words  \\\n0  ’s multitask ’   – eppe optus mentoring    -pron-   \n\n                                          Experience    country  \n0  Such As Onsite facilities at Macquarie Park su...  Australia  ",
      "text/html": "<div>\n<style scoped>\n    .dataframe tbody tr th:only-of-type {\n        vertical-align: middle;\n    }\n\n    .dataframe tbody tr th {\n        vertical-align: top;\n    }\n\n    .dataframe thead th {\n        text-align: right;\n    }\n</style>\n<table border=\"1\" class=\"dataframe\">\n  <thead>\n    <tr style=\"text-align: right;\">\n      <th></th>\n      <th>id</th>\n      <th>title</th>\n      <th>company</th>\n      <th>location</th>\n      <th>posted</th>\n      <th>applicants</th>\n      <th>text</th>\n      <th>level</th>\n      <th>type</th>\n      <th>functions</th>\n      <th>industries</th>\n      <th>key_words</th>\n      <th>misspelled_words</th>\n      <th>Experience</th>\n      <th>country</th>\n    </tr>\n  </thead>\n  <tbody>\n    <tr>\n      <th>0</th>\n      <td>1781527759</td>\n      <td>Senior Data Engineer - 12 month fixed term</td>\n      <td>Optus</td>\n      <td>Sydney, New South Wales, Australia</td>\n      <td>60.0</td>\n      <td>0</td>\n      <td>Senior Data EngineerThe Data Center of Excelle...</td>\n      <td>Mid-Senior level</td>\n      <td>Full-time</td>\n      <td>Information Technology</td>\n      <td>Telecommunications Internet Information Techn...</td>\n      <td>scala spark hive sql kafka sqoop flume nifi hd...</td>\n      <td>’s multitask ’   – eppe optus mentoring    -pron-</td>\n      <td>Such As Onsite facilities at Macquarie Park su...</td>\n      <td>Australia</td>\n    </tr>\n  </tbody>\n</table>\n</div>"
     },
     "metadata": {},
     "execution_count": 278
    }
   ],
   "source": [
    "analyzed_texts.head(1)"
   ]
  },
  {
   "cell_type": "code",
   "execution_count": 288,
   "metadata": {},
   "outputs": [
    {
     "output_type": "execute_result",
     "data": {
      "text/plain": "id                  562\ntitle               434\ncompany             326\nlocation             60\nposted               60\napplicants           44\ntext                514\nlevel                 3\ntype                  6\nfunctions            68\nindustries          209\nkey_words             0\nmisspelled_words    454\nExperience          408\ncountry               6\ndtype: int64"
     },
     "metadata": {},
     "execution_count": 288
    }
   ],
   "source": [
    "key_words_null.nunique()"
   ]
  },
  {
   "cell_type": "code",
   "execution_count": 289,
   "metadata": {},
   "outputs": [
    {
     "output_type": "execute_result",
     "data": {
      "text/plain": "Kingdom      0.355872\nAustralia    0.343416\nIreland      0.135231\nSpain        0.096085\nZealand      0.067616\nArea         0.001779\nName: country, dtype: float64"
     },
     "metadata": {},
     "execution_count": 289
    }
   ],
   "source": [
    "key_words_null.country.value_counts(normalize=True)"
   ]
  },
  {
   "cell_type": "code",
   "execution_count": 290,
   "metadata": {},
   "outputs": [
    {
     "output_type": "execute_result",
     "data": {
      "text/plain": " Full-time      504\n Contract        26\n Volunteer       14\n Part-time       11\n Temporary        4\n Internship       3\nName: type, dtype: int64"
     },
     "metadata": {},
     "execution_count": 290
    }
   ],
   "source": [
    "key_words_null.type.value_counts()"
   ]
  },
  {
   "cell_type": "code",
   "execution_count": 282,
   "metadata": {},
   "outputs": [
    {
     "output_type": "stream",
     "name": "stdout",
     "text": "[('python', 1644), ('sql', 1330), ('cloud', 1039), ('java', 860), ('aws', 808), ('agile', 783), ('ai', 672), ('r', 661), ('mathematic', 509), ('spark', 502), ('azure', 358), ('tableau', 348), ('google', 347), ('hadoop', 345), ('linux', 299), ('mining', 295), ('scala', 293), ('etl', 288), ('docker', 287), ('visualisation', 274), ('gcp', 237), ('dashboard', 236), ('kubernetes', 214), ('startup', 212), ('kafka', 200), ('scrum', 184), ('backend', 178), ('node', 168), ('nlp', 164), ('microservice', 161), ('crm', 150), ('hive', 140), ('postgre', 133), ('javascript', 129), ('angular', 114), ('mongo', 114), ('jenkins', 113), ('windows', 106), ('frontend', 99), ('tensorflow', 98), ('keras', 91), ('jira', 88), ('qlik', 79), ('matlab', 67), ('jupyter', 65), ('kpi', 64), ('ansible', 56), ('bitbucket', 54), ('redis', 53), ('confluence', 52), ('kotlin', 48), ('pytorch', 47), ('elasticsearch', 43), ('databricks', 42), ('kinesis', 40), ('cloudera', 39), ('hdfs', 37), ('redux', 37), ('sagemaker', 34), ('virtualization', 32), ('neo', 32), ('github', 30), ('blockchain', 29), ('ssas', 25), ('impala', 25), ('kubeflow', 23), ('qlikview', 17), ('pyspark', 17), ('sklearn', 15), ('clojure', 14), ('lucene', 11), ('nifi', 10), ('kibana', 10), ('flume', 9), ('sqoop', 8), ('gitlab', 8), ('knime', 7), ('micromanagement', 3), ('postgresql', 3), ('qubole', 1), ('kudu', 1), ('qliksense', 1), ('powerbi', 1)]\n"
    }
   ],
   "source": [
    "get_common_words(analyzed_texts, \"key_words\", 100)"
   ]
  },
  {
   "cell_type": "code",
   "execution_count": 291,
   "metadata": {},
   "outputs": [
    {
     "output_type": "execute_result",
     "data": {
      "text/plain": "id                    0\ntitle                 0\ncompany               0\nlocation              0\nposted                0\napplicants            0\ntext                  0\nlevel                 0\ntype                  0\nfunctions             0\nindustries            0\nkey_words           562\nmisspelled_words      7\nExperience           71\ncountry               0\ndtype: int64"
     },
     "metadata": {},
     "execution_count": 291
    }
   ],
   "source": [
    "key_words_null.isna().sum()"
   ]
  },
  {
   "cell_type": "code",
   "execution_count": 284,
   "metadata": {},
   "outputs": [
    {
     "output_type": "execute_result",
     "data": {
      "text/plain": "(562, 15)"
     },
     "metadata": {},
     "execution_count": 284
    }
   ],
   "source": [
    "key_words_null = analyzed_texts[analyzed_texts.key_words.isnull()]\n",
    "key_words_null = key_words_null.reset_index(drop=True)\n",
    "key_words_null.shape"
   ]
  },
  {
   "cell_type": "code",
   "execution_count": null,
   "metadata": {},
   "outputs": [],
   "source": []
  },
  {
   "cell_type": "code",
   "execution_count": null,
   "metadata": {},
   "outputs": [],
   "source": []
  },
  {
   "cell_type": "code",
   "execution_count": null,
   "metadata": {},
   "outputs": [],
   "source": []
  },
  {
   "cell_type": "code",
   "execution_count": null,
   "metadata": {},
   "outputs": [],
   "source": []
  },
  {
   "cell_type": "code",
   "execution_count": null,
   "metadata": {},
   "outputs": [],
   "source": []
  },
  {
   "cell_type": "code",
   "execution_count": null,
   "metadata": {},
   "outputs": [],
   "source": []
  }
 ]
}
{
 "cells": [
  {
   "cell_type": "code",
   "execution_count": 7,
   "metadata": {},
   "outputs": [],
   "source": [
    "import pandas as pd\n",
    "import matplotlib.pyplot as plt\n",
    "from collections import Counter\n",
    "import spacy\n",
    "import re\n",
    "from os import listdir\n",
    "from os.path import isfile, join"
   ]
  },
  {
   "cell_type": "code",
   "execution_count": 8,
   "metadata": {},
   "outputs": [],
   "source": [
    "DATA_BASE_TEXT_ROUTE = \"C:\\\\Users\\\\Sectorea\\\\Code\\\\linkedin\\\\database_linkedin\\\\text_analyzed\\\\\""
   ]
  },
  {
   "cell_type": "code",
   "execution_count": 9,
   "metadata": {},
   "outputs": [],
   "source": [
    "def get_join_data(route):\n",
    "\n",
    "    files = [file for file in listdir(route) if isfile(join(route, file))]\n",
    "    data_frames = [pd.read_csv(route + file) for file in files]\n",
    "    data_analyzed = pd.concat(data_frames)\n",
    "    data_analyzed = data_analyzed.reset_index(drop=True)\n",
    "    data_analyzed = data_analyzed.drop_duplicates(subset=[\"id\"])\n",
    "\n",
    "    return data_analyzed"
   ]
  },
  {
   "cell_type": "code",
   "execution_count": 10,
   "metadata": {},
   "outputs": [],
   "source": [
    "def get_common_words(data_frame, column, number_of_values):\n",
    "\n",
    "    variable_extension = \" \".join(review for review in data_frame[column] if type(review) is not float)\n",
    "    variable_count = variable_extension.split(\" \")\n",
    "    print(Counter(variable_count).most_common(number_of_values))"
   ]
  },
  {
   "cell_type": "code",
   "execution_count": 11,
   "metadata": {},
   "outputs": [],
   "source": [
    "def get_column_value(data_frame, id, column):\n",
    "\n",
    "    index = int(data_frame[data_frame[\"id\"] == id].index.values)\n",
    "    print(data_frame[column][index])"
   ]
  },
  {
   "cell_type": "code",
   "execution_count": 12,
   "metadata": {},
   "outputs": [
    {
     "output_type": "execute_result",
     "data": {
      "text/plain": "(5524, 15)"
     },
     "metadata": {},
     "execution_count": 12
    }
   ],
   "source": [
    "analyzed_texts = get_join_data(DATA_BASE_TEXT_ROUTE)\n",
    "analyzed_texts = analyzed_texts.dropna(subset=[\"title\", \"company\", \"location\", \"posted\", \"applicants\", \"text\", \"level\", \"type\", \"functions\", \"industries\"])\n",
    "analyzed_texts[\"country\"] = analyzed_texts[\"location\"].apply(lambda x: x.split(\" \")[-1])\n",
    "analyzed_texts.shape"
   ]
  },
  {
   "cell_type": "code",
   "execution_count": 278,
   "metadata": {},
   "outputs": [
    {
     "output_type": "execute_result",
     "data": {
      "text/plain": "           id                                       title company  \\\n0  1781527759  Senior Data Engineer - 12 month fixed term   Optus   \n\n                             location posted  applicants  \\\n0  Sydney, New South Wales, Australia   60.0           0   \n\n                                                text               level  \\\n0  Senior Data EngineerThe Data Center of Excelle...   Mid-Senior level    \n\n          type                 functions  \\\n0   Full-time    Information Technology    \n\n                                          industries  \\\n0   Telecommunications Internet Information Techn...   \n\n                                           key_words  \\\n0  scala spark hive sql kafka sqoop flume nifi hd...   \n\n                                    misspelled_words  \\\n0  ’s multitask ’   – eppe optus mentoring    -pron-   \n\n                                          Experience    country  \n0  Such As Onsite facilities at Macquarie Park su...  Australia  ",
      "text/html": "<div>\n<style scoped>\n    .dataframe tbody tr th:only-of-type {\n        vertical-align: middle;\n    }\n\n    .dataframe tbody tr th {\n        vertical-align: top;\n    }\n\n    .dataframe thead th {\n        text-align: right;\n    }\n</style>\n<table border=\"1\" class=\"dataframe\">\n  <thead>\n    <tr style=\"text-align: right;\">\n      <th></th>\n      <th>id</th>\n      <th>title</th>\n      <th>company</th>\n      <th>location</th>\n      <th>posted</th>\n      <th>applicants</th>\n      <th>text</th>\n      <th>level</th>\n      <th>type</th>\n      <th>functions</th>\n      <th>industries</th>\n      <th>key_words</th>\n      <th>misspelled_words</th>\n      <th>Experience</th>\n      <th>country</th>\n    </tr>\n  </thead>\n  <tbody>\n    <tr>\n      <th>0</th>\n      <td>1781527759</td>\n      <td>Senior Data Engineer - 12 month fixed term</td>\n      <td>Optus</td>\n      <td>Sydney, New South Wales, Australia</td>\n      <td>60.0</td>\n      <td>0</td>\n      <td>Senior Data EngineerThe Data Center of Excelle...</td>\n      <td>Mid-Senior level</td>\n      <td>Full-time</td>\n      <td>Information Technology</td>\n      <td>Telecommunications Internet Information Techn...</td>\n      <td>scala spark hive sql kafka sqoop flume nifi hd...</td>\n      <td>’s multitask ’   – eppe optus mentoring    -pron-</td>\n      <td>Such As Onsite facilities at Macquarie Park su...</td>\n      <td>Australia</td>\n    </tr>\n  </tbody>\n</table>\n</div>"
     },
     "metadata": {},
     "execution_count": 278
    }
   ],
   "source": [
    "analyzed_texts.head(1)"
   ]
  },
  {
   "cell_type": "code",
   "execution_count": 288,
   "metadata": {},
   "outputs": [
    {
     "output_type": "execute_result",
     "data": {
      "text/plain": "id                  562\ntitle               434\ncompany             326\nlocation             60\nposted               60\napplicants           44\ntext                514\nlevel                 3\ntype                  6\nfunctions            68\nindustries          209\nkey_words             0\nmisspelled_words    454\nExperience          408\ncountry               6\ndtype: int64"
     },
     "metadata": {},
     "execution_count": 288
    }
   ],
   "source": [
    "key_words_null.nunique()"
   ]
  },
  {
   "cell_type": "code",
   "execution_count": 289,
   "metadata": {},
   "outputs": [
    {
     "output_type": "execute_result",
     "data": {
      "text/plain": "Kingdom      0.355872\nAustralia    0.343416\nIreland      0.135231\nSpain        0.096085\nZealand      0.067616\nArea         0.001779\nName: country, dtype: float64"
     },
     "metadata": {},
     "execution_count": 289
    }
   ],
   "source": [
    "key_words_null.country.value_counts(normalize=True)"
   ]
  },
  {
   "cell_type": "code",
   "execution_count": 290,
   "metadata": {},
   "outputs": [
    {
     "output_type": "execute_result",
     "data": {
      "text/plain": " Full-time      504\n Contract        26\n Volunteer       14\n Part-time       11\n Temporary        4\n Internship       3\nName: type, dtype: int64"
     },
     "metadata": {},
     "execution_count": 290
    }
   ],
   "source": [
    "key_words_null.type.value_counts()"
   ]
  },
  {
   "cell_type": "code",
   "execution_count": 13,
   "metadata": {},
   "outputs": [
    {
     "output_type": "stream",
     "name": "stdout",
     "text": "[('python', 2466), ('sql', 1969), ('cloud', 1514), ('aws', 1213), ('java', 1189), ('agile', 1132), ('r', 976), ('ai', 974), ('spark', 789), ('mathematic', 755), ('hadoop', 533), ('tableau', 507), ('azure', 507), ('google', 504), ('etl', 469), ('scala', 465), ('docker', 423), ('visualisation', 415), ('mining', 414), ('linux', 409), ('dashboard', 362), ('kafka', 351), ('gcp', 342), ('kubernetes', 301), ('startup', 288), ('nlp', 274), ('backend', 262), ('scrum', 242), ('node', 238), ('microservice', 226), ('hive', 224), ('postgre', 206), ('crm', 201), ('javascript', 185), ('jenkins', 177), ('mongo', 172), ('angular', 152), ('tensorflow', 141), ('frontend', 140), ('keras', 136), ('windows', 126), ('jira', 123), ('qlik', 111), ('jupyter', 92), ('kpi', 91), ('ansible', 90), ('matlab', 88), ('redis', 85), ('confluence', 75), ('elasticsearch', 73), ('databricks', 64), ('bitbucket', 62), ('pytorch', 62), ('kinesis', 60), ('cloudera', 57), ('kotlin', 57), ('sagemaker', 53), ('redux', 53), ('hdfs', 51), ('neo', 47), ('blockchain', 44), ('github', 40), ('ssas', 37), ('impala', 37), ('virtualization', 36), ('kubeflow', 36), ('lucene', 21), ('clojure', 20), ('qlikview', 20), ('sklearn', 18), ('pyspark', 18), ('flume', 14), ('sqoop', 12), ('nifi', 12), ('kibana', 12), ('gitlab', 12), ('knime', 7), ('micromanagement', 5), ('postgresql', 3), ('qubole', 1), ('kudu', 1), ('qliksense', 1), ('powerbi', 1)]\n"
    }
   ],
   "source": [
    "get_common_words(analyzed_texts, \"key_words\", 100)"
   ]
  },
  {
   "cell_type": "code",
   "execution_count": 14,
   "metadata": {},
   "outputs": [
    {
     "output_type": "error",
     "ename": "NameError",
     "evalue": "name 'key_words_null' is not defined",
     "traceback": [
      "\u001b[1;31m---------------------------------------------------------------------------\u001b[0m",
      "\u001b[1;31mNameError\u001b[0m                                 Traceback (most recent call last)",
      "\u001b[1;32m<ipython-input-14-64a146740a56>\u001b[0m in \u001b[0;36m<module>\u001b[1;34m\u001b[0m\n\u001b[1;32m----> 1\u001b[1;33m \u001b[0mkey_words_null\u001b[0m\u001b[1;33m.\u001b[0m\u001b[0misna\u001b[0m\u001b[1;33m(\u001b[0m\u001b[1;33m)\u001b[0m\u001b[1;33m.\u001b[0m\u001b[0msum\u001b[0m\u001b[1;33m(\u001b[0m\u001b[1;33m)\u001b[0m\u001b[1;33m\u001b[0m\u001b[1;33m\u001b[0m\u001b[0m\n\u001b[0m",
      "\u001b[1;31mNameError\u001b[0m: name 'key_words_null' is not defined"
     ]
    }
   ],
   "source": [
    "key_words_null.isna().sum()"
   ]
  },
  {
   "cell_type": "code",
   "execution_count": 284,
   "metadata": {},
   "outputs": [
    {
     "output_type": "execute_result",
     "data": {
      "text/plain": "(562, 15)"
     },
     "metadata": {},
     "execution_count": 284
    }
   ],
   "source": [
    "key_words_null = analyzed_texts[analyzed_texts.key_words.isnull()]\n",
    "key_words_null = key_words_null.reset_index(drop=True)\n",
    "key_words_null.shape"
   ]
  },
  {
   "cell_type": "code",
   "execution_count": 15,
   "metadata": {},
   "outputs": [
    {
     "output_type": "stream",
     "name": "stdout",
     "text": "[('', 31383), ('-pron-', 5334), ('’s', 1908), (\"'s\", 1670), ('–', 1084), ('’', 948), ('£', 929), ('\\xa0', 698), ('www', 464), ('website', 410), ('py', 264), ('…', 235), ('https', 225), ('acuman', 219), ('™', 210), ('analytics', 203), ('modeling', 200), ('scikit', 178), ('html', 175), ('—', 172), ('r&d', 171), ('css', 165), ('iqvia', 160), ('emea', 155), ('tdd', 150), ('timeline', 147), ('mentoring', 139), ('responsibilitie', 138), ('troubleshoot', 128), ('impactful', 128), ('numpy', 121), ('http', 120), ('skillset', 110), ('annum', 108), ('terraform', 108), ('datar', 104), ('performant', 101), ('blog', 99), ('emr', 99), ('reperio', 99), ('cto', 95), ('tful', 95), ('architecte', 94), ('facebook', 92), ('fintech', 85), ('focusse', 84), ('covid', 82), ('json', 82), ('eeo', 82), ('php', 81), ('serverless', 81), ('pharma', 81), ('html5', 78), ('debug', 78), ('xml', 78), ('\\xa0\\xa0', 75), ('sme', 73), ('vba', 71), ('€', 69), ('paa', 68), ('perl', 68), ('mvc', 66), ('cybersecurity', 64), ('cro', 62), ('onboarde', 62), ('meetup', 60), ('productionise', 60), ('ecommerce', 59), ('gdpr', 59), ('ssis', 56), ('alteryx', 56), ('sdlc', 54), ('webpack', 54), ('®', 51), ('containerisation', 50), ('ql', 50), ('metadata', 49), ('ideation', 49), ('matplotlib', 49), ('sarl', 49), ('llib', 48), ('instagram', 47), ('rpa', 47), ('codebase', 46), ('rollout', 45), ('refactore', 45), ('learning', 45), ('carthy', 44), ('wellbee', 43), ('informatica', 43), ('devop', 43), ('firmwide', 43), ('rmccarthy@datatech', 43), ('golang', 42), ('methodologie', 42), ('icml', 42), ('solr', 42), ('flink', 42), ('hackathon', 41), ('internship', 41)]\n"
    }
   ],
   "source": [
    "get_common_words(analyzed_texts, \"misspelled_words\", 100)"
   ]
  },
  {
   "cell_type": "code",
   "execution_count": null,
   "metadata": {},
   "outputs": [],
   "source": []
  },
  {
   "cell_type": "code",
   "execution_count": null,
   "metadata": {},
   "outputs": [],
   "source": []
  },
  {
   "cell_type": "code",
   "execution_count": null,
   "metadata": {},
   "outputs": [],
   "source": []
  },
  {
   "cell_type": "code",
   "execution_count": null,
   "metadata": {},
   "outputs": [],
   "source": []
  },
  {
   "cell_type": "code",
   "execution_count": null,
   "metadata": {},
   "outputs": [],
   "source": []
  },
  {
   "cell_type": "code",
   "execution_count": null,
   "metadata": {},
   "outputs": [],
   "source": []
  }
 ],
 "metadata": {
  "language_info": {
   "name": "python",
   "codemirror_mode": {
    "name": "ipython",
    "version": 3
   },
   "version": "3.8.2-final"
  },
  "orig_nbformat": 2,
  "file_extension": ".py",
  "mimetype": "text/x-python",
  "name": "python",
  "npconvert_exporter": "python",
  "pygments_lexer": "ipython3",
  "version": 3,
  "kernelspec": {
   "name": "python38264bitlinkedinvenv6a42e3ea5f154f22986379c023c4e24d",
   "display_name": "Python 3.8.2 64-bit ('.linkedin': venv)"
  }
 },
 "nbformat": 4,
 "nbformat_minor": 2
}
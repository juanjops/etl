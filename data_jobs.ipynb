{
 "cells": [
  {
   "cell_type": "code",
   "execution_count": 1,
   "metadata": {},
   "outputs": [],
   "source": [
    "import pandas as pd\n",
    "from wordcloud import WordCloud\n",
    "import matplotlib.pyplot as plt\n",
    "from collections import Counter"
   ]
  },
  {
   "cell_type": "code",
   "execution_count": 2,
   "metadata": {},
   "outputs": [],
   "source": [
    "data_frame = pd.read_csv(\"data_scientist_London_England_United_Kingdom_Past_Month_2020-04-10.csv\")"
   ]
  },
  {
   "cell_type": "code",
   "execution_count": 3,
   "metadata": {},
   "outputs": [
    {
     "data": {
      "text/plain": [
       "(946, 8)"
      ]
     },
     "execution_count": 3,
     "metadata": {},
     "output_type": "execute_result"
    }
   ],
   "source": [
    "data_frame.shape"
   ]
  },
  {
   "cell_type": "code",
   "execution_count": 5,
   "metadata": {},
   "outputs": [
    {
     "data": {
      "text/html": [
       "<div>\n",
       "<style scoped>\n",
       "    .dataframe tbody tr th:only-of-type {\n",
       "        vertical-align: middle;\n",
       "    }\n",
       "\n",
       "    .dataframe tbody tr th {\n",
       "        vertical-align: top;\n",
       "    }\n",
       "\n",
       "    .dataframe thead th {\n",
       "        text-align: right;\n",
       "    }\n",
       "</style>\n",
       "<table border=\"1\" class=\"dataframe\">\n",
       "  <thead>\n",
       "    <tr style=\"text-align: right;\">\n",
       "      <th></th>\n",
       "      <th>id</th>\n",
       "      <th>position</th>\n",
       "      <th>company_name</th>\n",
       "      <th>company_location</th>\n",
       "      <th>posted_time</th>\n",
       "      <th>applicants</th>\n",
       "      <th>key_words</th>\n",
       "      <th>misspelled_words</th>\n",
       "    </tr>\n",
       "  </thead>\n",
       "  <tbody>\n",
       "    <tr>\n",
       "      <th>0</th>\n",
       "      <td>1784877780</td>\n",
       "      <td>Head of Data Science</td>\n",
       "      <td>Datatech</td>\n",
       "      <td>London GB</td>\n",
       "      <td>21.0</td>\n",
       "      <td>25.0</td>\n",
       "      <td>python r sql</td>\n",
       "      <td>bachelor's www master's – £ @datatech analytic...</td>\n",
       "    </tr>\n",
       "    <tr>\n",
       "      <th>1</th>\n",
       "      <td>1806242893</td>\n",
       "      <td>Data Analyst</td>\n",
       "      <td>JAM</td>\n",
       "      <td>London GB</td>\n",
       "      <td>7.0</td>\n",
       "      <td>25.0</td>\n",
       "      <td>tableau sql</td>\n",
       "      <td>you'll da8 kibana you're e-commerce website fa...</td>\n",
       "    </tr>\n",
       "    <tr>\n",
       "      <th>2</th>\n",
       "      <td>1789937160</td>\n",
       "      <td>Data Scientist</td>\n",
       "      <td>CACI Ltd</td>\n",
       "      <td>Kensington GB</td>\n",
       "      <td>21.0</td>\n",
       "      <td>49.0</td>\n",
       "      <td>python r qlik tableau sql</td>\n",
       "      <td>self-starter @caci alteryx £ 100m 26k annum ca...</td>\n",
       "    </tr>\n",
       "    <tr>\n",
       "      <th>3</th>\n",
       "      <td>1818494804</td>\n",
       "      <td>Data Scientist London or UK Remote Insuretech</td>\n",
       "      <td>Arthur Remote</td>\n",
       "      <td>London GB</td>\n",
       "      <td>21.0</td>\n",
       "      <td>25.0</td>\n",
       "      <td>python spark aws docker</td>\n",
       "      <td>2nd timeseries 1-6 – geolocation insuretech sc...</td>\n",
       "    </tr>\n",
       "    <tr>\n",
       "      <th>4</th>\n",
       "      <td>1818488303</td>\n",
       "      <td>Recruiter</td>\n",
       "      <td>FACEIT Ltd</td>\n",
       "      <td>London GB</td>\n",
       "      <td>NaN</td>\n",
       "      <td>NaN</td>\n",
       "      <td>NaN</td>\n",
       "      <td>you'll – ’ faceit</td>\n",
       "    </tr>\n",
       "  </tbody>\n",
       "</table>\n",
       "</div>"
      ],
      "text/plain": [
       "           id                                       position     company_name  \\\n",
       "0  1784877780                           Head of Data Science        Datatech    \n",
       "1  1806242893                                   Data Analyst             JAM    \n",
       "2  1789937160                                 Data Scientist        CACI Ltd    \n",
       "3  1818494804  Data Scientist London or UK Remote Insuretech   Arthur Remote    \n",
       "4  1818488303                                      Recruiter      FACEIT Ltd    \n",
       "\n",
       "  company_location  posted_time  applicants                  key_words  \\\n",
       "0        London GB         21.0        25.0               python r sql   \n",
       "1        London GB          7.0        25.0                tableau sql   \n",
       "2    Kensington GB         21.0        49.0  python r qlik tableau sql   \n",
       "3        London GB         21.0        25.0    python spark aws docker   \n",
       "4        London GB          NaN         NaN                        NaN   \n",
       "\n",
       "                                    misspelled_words  \n",
       "0  bachelor's www master's – £ @datatech analytic...  \n",
       "1  you'll da8 kibana you're e-commerce website fa...  \n",
       "2  self-starter @caci alteryx £ 100m 26k annum ca...  \n",
       "3  2nd timeseries 1-6 – geolocation insuretech sc...  \n",
       "4                                  you'll – ’ faceit  "
      ]
     },
     "execution_count": 5,
     "metadata": {},
     "output_type": "execute_result"
    }
   ],
   "source": [
    "data_frame.head()"
   ]
  },
  {
   "cell_type": "code",
   "execution_count": 6,
   "metadata": {},
   "outputs": [],
   "source": [
    "key_words = \" \".join(review for review in data_frame.key_words if type(review) is not float)\n",
    "wordcloud = WordCloud(\n",
    "    max_font_size=50, max_words=100, background_color=\"white\",collocations=False,\n",
    "    prefer_horizontal=1).generate(key_words)\n",
    "key_words_count = key_words.split(\" \")\n"
   ]
  },
  {
   "cell_type": "code",
   "execution_count": 7,
   "metadata": {},
   "outputs": [
    {
     "name": "stdout",
     "output_type": "stream",
     "text": [
      "[('python', 627), ('sql', 452), ('r', 325), ('cloud', 205), ('aws', 192), ('spark', 190), ('tableau', 152), ('agile', 149), ('hadoop', 136), ('java', 119)]\n"
     ]
    },
    {
     "data": {
      "image/png": "[encoded data removed]",
      "text/plain": [
       "<Figure size 432x288 with 1 Axes>"
      ]
     },
     "metadata": {
      "needs_background": "light"
     },
     "output_type": "display_data"
    }
   ],
   "source": [
    "print(Counter(key_words_count).most_common(10))\n",
    "plt.figure()\n",
    "plt.imshow(wordcloud, interpolation=\"bilinear\")\n",
    "plt.axis(\"off\")\n",
    "plt.show()"
   ]
  },
  {
   "cell_type": "code",
   "execution_count": 8,
   "metadata": {
    "tags": [
     "outputPrepend"
    ]
   },
   "outputs": [
    {
     "data": {
      "text/plain": [
       "[('python', 627),\n",
       " ('sql', 452),\n",
       " ('r', 325),\n",
       " ('cloud', 205),\n",
       " ('aws', 192),\n",
       " ('spark', 190),\n",
       " ('tableau', 152),\n",
       " ('agile', 149),\n",
       " ('hadoop', 136),\n",
       " ('java', 119)]"
      ]
     },
     "execution_count": 8,
     "metadata": {},
     "output_type": "execute_result"
    }
   ],
   "source": [
    "key_words_count = key_words.split(\" \")\n",
    "Counter(key_words_count).most_common(10)"
   ]
  },
  {
   "cell_type": "code",
   "execution_count": 9,
   "metadata": {},
   "outputs": [],
   "source": [
    "import spacy"
   ]
  },
  {
   "cell_type": "code",
   "execution_count": 10,
   "metadata": {},
   "outputs": [
    {
     "name": "stderr",
     "output_type": "stream",
     "text": [
      "Traceback (most recent call last):\n",
      "  File \"C:\\Users\\Sectorea\\AppData\\Local\\Programs\\Python\\Python36\\lib\\runpy.py\", line 183, in _run_module_as_main\n",
      "    mod_name, mod_spec, code = _get_module_details(mod_name, _Error)\n",
      "  File \"C:\\Users\\Sectorea\\AppData\\Local\\Programs\\Python\\Python36\\lib\\runpy.py\", line 142, in _get_module_details\n",
      "    return _get_module_details(pkg_main_name, error)\n",
      "  File \"C:\\Users\\Sectorea\\AppData\\Local\\Programs\\Python\\Python36\\lib\\runpy.py\", line 109, in _get_module_details\n",
      "    __import__(pkg_name)\n",
      "  File \"C:\\Users\\Code\\.linkedin\\lib\\site-packages\\spacy\\__init__.py\", line 12, in <module>\n",
      "    from . import pipeline\n",
      "  File \"C:\\Users\\Code\\.linkedin\\lib\\site-packages\\spacy\\pipeline\\__init__.py\", line 4, in <module>\n",
      "    from .pipes import Tagger, DependencyParser, EntityRecognizer, EntityLinker\n",
      "  File \"pipes.pyx\", line 1, in init spacy.pipeline.pipes\n",
      "ImportError: DLL load failed: No se puede encontrar el módulo especificado.\n"
     ]
    }
   ],
   "source": [
    "!python -m spacy download en_core_web_md"
   ]
  },
  {
   "cell_type": "code",
   "execution_count": 11,
   "metadata": {},
   "outputs": [
    {
     "data": {
      "text/plain": [
       "<module 'spacy' from 'c:\\\\Users\\\\Code\\\\.linkedin\\\\lib\\\\site-packages\\\\spacy\\\\__init__.py'>"
      ]
     },
     "execution_count": 11,
     "metadata": {},
     "output_type": "execute_result"
    }
   ],
   "source": [
    "spacy"
   ]
  },
  {
   "cell_type": "code",
   "execution_count": null,
   "metadata": {},
   "outputs": [],
   "source": []
  }
 ],
 "metadata": {
  "file_extension": ".py",
  "kernelspec": {
   "display_name": "Python 3.6.8 64-bit ('.linkedin': venv)",
   "language": "python",
   "name": "python36864bitlinkedinvenvc66d136b9f9a416dbecf53c29bf564f4"
  },
  "language_info": {
   "codemirror_mode": {
    "name": "ipython",
    "version": 3
   },
   "file_extension": ".py",
   "mimetype": "text/x-python",
   "name": "python",
   "nbconvert_exporter": "python",
   "pygments_lexer": "ipython3",
   "version": "3.6.8"
  },
  "mimetype": "text/x-python",
  "name": "python",
  "npconvert_exporter": "python",
  "pygments_lexer": "ipython3",
  "version": 3
 },
 "nbformat": 4,
 "nbformat_minor": 2
}
